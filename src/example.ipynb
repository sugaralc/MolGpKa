{
 "cells": [
  {
   "cell_type": "code",
   "execution_count": 1,
   "metadata": {},
   "outputs": [],
   "source": [
    "from rdkit import Chem\n",
    "from rdkit.Chem import AllChem\n",
    "from rdkit import RDLogger\n",
    "RDLogger.DisableLog('rdApp.*')\n",
    "from rdkit.Chem.MolStandardize import rdMolStandardize\n",
    "\n",
    "import os.path as osp\n",
    "import numpy as np\n",
    "import pandas as pd\n",
    "\n",
    "import torch\n",
    "from utils.ionization_group import get_ionization_aid\n",
    "from utils.descriptor import mol2vec\n",
    "from utils.net import GCNNet\n",
    "import py3Dmol\n",
    "\n",
    "root = osp.abspath(\"\")\n",
    "\n",
    "def load_model(model_file, device=\"cpu\"):\n",
    "    model= GCNNet().to(device)\n",
    "    model.load_state_dict(torch.load(model_file, map_location=device))\n",
    "    model.eval()\n",
    "    return model\n",
    "\n",
    "def model_pred(m2, aid, model, device=\"cpu\"):\n",
    "    data = mol2vec(m2, aid)\n",
    "    with torch.no_grad():\n",
    "        data = data.to(device)\n",
    "        pKa = model(data)\n",
    "        pKa = pKa.cpu().numpy()\n",
    "        pka = pKa[0][0]\n",
    "    return pka\n",
    "\n",
    "def predict_acid(mol):\n",
    "    model_file = osp.join(root, \"../models/weight_acid.pth\")\n",
    "    model_acid = load_model(model_file)\n",
    "\n",
    "    acid_idxs= get_ionization_aid(mol, acid_or_base=\"acid\")\n",
    "    acid_res = {}\n",
    "    for aid in acid_idxs:\n",
    "        apka = model_pred(mol, aid, model_acid)\n",
    "        acid_res.update({aid:apka})\n",
    "    return acid_res\n",
    "\n",
    "def predict_base(mol):\n",
    "    model_file = osp.join(root, \"../models/weight_base.pth\")\n",
    "    model_base = load_model(model_file)\n",
    "\n",
    "    base_idxs= get_ionization_aid(mol, acid_or_base=\"base\")\n",
    "    base_res = {}\n",
    "    for aid in base_idxs:\n",
    "        bpka = model_pred(mol, aid, model_base) \n",
    "        base_res.update({aid:bpka})\n",
    "    return base_res\n",
    "\n",
    "def predict(mol, uncharged=True):\n",
    "    if uncharged:\n",
    "        un = rdMolStandardize.Uncharger()\n",
    "        mol = un.uncharge(mol)\n",
    "        mol = Chem.MolFromSmiles(Chem.MolToSmiles(mol))\n",
    "    mol = AllChem.AddHs(mol)\n",
    "    base_dict = predict_base(mol)\n",
    "    acid_dict = predict_acid(mol)\n",
    "    AllChem.EmbedMolecule(mol)\n",
    "    return base_dict, acid_dict, mol\n",
    "\n",
    "def drawit(m, atom_idxs, pkas, p=None, confId=-1):\n",
    "    mb = Chem.MolToMolBlock(m, confId=confId)\n",
    "    if p is None:\n",
    "        p = py3Dmol.view(width=600, height=400)\n",
    "    p.removeAllModels()\n",
    "    p.addModel(mb, 'sdf')\n",
    "    for pka, idx in zip(pkas, atom_idxs):\n",
    "        pos = m.GetConformer().GetAtomPosition(idx)\n",
    "        label = \"pKa={:.3}\".format(round(pka, 1))\n",
    "        p.addLabel(label, {\"position\": {\"x\": pos.x, \"y\":pos.y, \"z\": pos.z}, \"fontSize\":10})\n",
    "    p.setStyle({'stick':{'colorscheme':'greenCarbon'}})\n",
    "    p.setBackgroundColor('0xeeeeee')\n",
    "    p.zoomTo()\n",
    "    return p.show()"
   ]
  },
  {
   "cell_type": "code",
   "execution_count": 13,
   "metadata": {},
   "outputs": [
    {
     "name": "stderr",
     "output_type": "stream",
     "text": [
      "/users/glara/anaconda3/envs/rdkit-env/lib/python3.10/site-packages/torch_geometric/deprecation.py:26: UserWarning: 'nn.glob.GlobalAttention' is deprecated, use 'nn.aggr.AttentionalAggregation' instead\n",
      "  warnings.warn(out)\n",
      "/users/glara/anaconda3/envs/rdkit-env/lib/python3.10/site-packages/torch_geometric/deprecation.py:26: UserWarning: 'nn.glob.GlobalAttention' is deprecated, use 'nn.aggr.AttentionalAggregation' instead\n",
      "  warnings.warn(out)\n"
     ]
    },
    {
     "data": {
      "application/3dmoljs_load.v0": "<div id=\"3dmolviewer_17107955960075154\"  style=\"position: relative; width: 600px; height: 400px;\">\n        <p id=\"3dmolwarning_17107955960075154\" style=\"background-color:#ffcccc;color:black\">3Dmol.js failed to load for some reason.  Please check your browser console for error messages.<br></p>\n        </div>\n<script>\n\nvar loadScriptAsync = function(uri){\n  return new Promise((resolve, reject) => {\n    //this is to ignore the existence of requirejs amd\n    var savedexports, savedmodule;\n    if (typeof exports !== 'undefined') savedexports = exports;\n    else exports = {}\n    if (typeof module !== 'undefined') savedmodule = module;\n    else module = {}\n\n    var tag = document.createElement('script');\n    tag.src = uri;\n    tag.async = true;\n    tag.onload = () => {\n        exports = savedexports;\n        module = savedmodule;\n        resolve();\n    };\n  var firstScriptTag = document.getElementsByTagName('script')[0];\n  firstScriptTag.parentNode.insertBefore(tag, firstScriptTag);\n});\n};\n\nif(typeof $3Dmolpromise === 'undefined') {\n$3Dmolpromise = null;\n  $3Dmolpromise = loadScriptAsync('https://cdnjs.cloudflare.com/ajax/libs/3Dmol/2.1.0/3Dmol-min.js');\n}\n\nvar viewer_17107955960075154 = null;\nvar warn = document.getElementById(\"3dmolwarning_17107955960075154\");\nif(warn) {\n    warn.parentNode.removeChild(warn);\n}\n$3Dmolpromise.then(function() {\nviewer_17107955960075154 = $3Dmol.createViewer(document.getElementById(\"3dmolviewer_17107955960075154\"),{backgroundColor:\"white\"});\nviewer_17107955960075154.zoomTo();\n\tviewer_17107955960075154.removeAllModels();\n\tviewer_17107955960075154.addModel(\"\\n     RDKit          3D\\n\\n 49 52  0  0  0  0  0  0  0  0999 V2000\\n    6.2660   -2.7091   -0.0739 N   0  0  0  0  0  0  0  0  0  0  0  0\\n    4.9515   -2.1857   -0.0832 C   0  0  0  0  0  0  0  0  0  0  0  0\\n    3.8377   -2.9416   -0.3403 C   0  0  0  0  0  0  0  0  0  0  0  0\\n    2.5790   -2.3563   -0.3315 C   0  0  0  0  0  0  0  0  0  0  0  0\\n    1.4159   -3.2539   -0.5918 C   0  0  0  0  0  0  0  0  0  0  0  0\\n    0.5627   -3.2936    0.4943 F   0  0  0  0  0  0  0  0  0  0  0  0\\n    1.9074   -4.5678   -0.6914 F   0  0  0  0  0  0  0  0  0  0  0  0\\n    0.7907   -3.0118   -1.7755 F   0  0  0  0  0  0  0  0  0  0  0  0\\n    2.4767   -1.0130   -0.0626 C   0  0  0  0  0  0  0  0  0  0  0  0\\n    1.1580   -0.3767   -0.0427 C   0  0  0  0  0  0  0  0  0  0  0  0\\n    1.0465    0.9168    0.4142 C   0  0  0  0  0  0  0  0  0  0  0  0\\n   -0.1913    1.5772    0.4671 C   0  0  0  0  0  0  0  0  0  0  0  0\\n   -0.2731    2.9130    0.9440 N   0  0  0  0  0  0  0  0  0  0  0  0\\n    0.8379    3.7064    1.4035 C   0  0  0  0  0  0  0  0  0  0  0  0\\n    0.2063    4.9709    1.9501 C   0  0  0  0  0  0  0  0  0  0  0  0\\n   -1.0130    5.1055    1.0626 C   0  0  0  0  0  0  0  0  0  0  0  0\\n   -1.5137    3.6571    1.0280 C   0  0  0  0  0  0  0  0  0  0  0  0\\n   -1.2589    0.8855    0.0506 N   0  0  0  0  0  0  0  0  0  0  0  0\\n   -1.1888   -0.3898   -0.4060 C   0  0  0  0  0  0  0  0  0  0  0  0\\n   -2.3887   -1.0030   -0.8251 N   0  0  0  0  0  0  0  0  0  0  0  0\\n   -3.6302   -0.2986   -0.6806 C   0  0  0  0  0  0  0  0  0  0  0  0\\n   -4.8389   -1.1897   -0.6070 C   0  0  0  0  0  0  0  0  0  0  0  0\\n   -4.7526   -2.0513   -1.7106 O   0  0  0  0  0  0  0  0  0  0  0  0\\n   -3.7067   -2.9611   -1.5457 C   0  0  0  0  0  0  0  0  0  0  0  0\\n   -2.3614   -2.3160   -1.4010 C   0  0  0  0  0  0  0  0  0  0  0  0\\n    0.0216   -0.9783   -0.4364 N   0  0  0  0  0  0  0  0  0  0  0  0\\n    3.6173   -0.2886    0.1906 C   0  0  0  0  0  0  0  0  0  0  0  0\\n    4.8155   -0.8858    0.1747 N   0  0  0  0  0  0  0  0  0  0  0  0\\n    6.5580   -3.3316    0.6938 H   0  0  0  0  0  0  0  0  0  0  0  0\\n    6.9124   -2.4591   -0.8366 H   0  0  0  0  0  0  0  0  0  0  0  0\\n    3.9821   -4.0087   -0.5494 H   0  0  0  0  0  0  0  0  0  0  0  0\\n    1.8652    1.4981    0.7584 H   0  0  0  0  0  0  0  0  0  0  0  0\\n    1.4672    4.0020    0.5364 H   0  0  0  0  0  0  0  0  0  0  0  0\\n    1.4341    3.1917    2.1841 H   0  0  0  0  0  0  0  0  0  0  0  0\\n    0.8885    5.8397    1.8519 H   0  0  0  0  0  0  0  0  0  0  0  0\\n   -0.1640    4.8432    2.9879 H   0  0  0  0  0  0  0  0  0  0  0  0\\n   -1.7641    5.7944    1.4487 H   0  0  0  0  0  0  0  0  0  0  0  0\\n   -0.6453    5.3386    0.0461 H   0  0  0  0  0  0  0  0  0  0  0  0\\n   -2.1805    3.4799    0.1768 H   0  0  0  0  0  0  0  0  0  0  0  0\\n   -1.9874    3.4026    2.0112 H   0  0  0  0  0  0  0  0  0  0  0  0\\n   -3.7766    0.3313   -1.6089 H   0  0  0  0  0  0  0  0  0  0  0  0\\n   -3.6115    0.4144    0.1799 H   0  0  0  0  0  0  0  0  0  0  0  0\\n   -4.9033   -1.7366    0.3502 H   0  0  0  0  0  0  0  0  0  0  0  0\\n   -5.7356   -0.5668   -0.7524 H   0  0  0  0  0  0  0  0  0  0  0  0\\n   -3.6940   -3.5800   -2.4714 H   0  0  0  0  0  0  0  0  0  0  0  0\\n   -3.9257   -3.6857   -0.7303 H   0  0  0  0  0  0  0  0  0  0  0  0\\n   -1.7290   -3.0223   -0.8121 H   0  0  0  0  0  0  0  0  0  0  0  0\\n   -1.9356   -2.2081   -2.4453 H   0  0  0  0  0  0  0  0  0  0  0  0\\n    3.5717    0.8025    0.4064 H   0  0  0  0  0  0  0  0  0  0  0  0\\n  1  2  1  0\\n  2  3  2  0\\n  3  4  1  0\\n  4  5  1  0\\n  5  6  1  0\\n  5  7  1  0\\n  5  8  1  0\\n  4  9  2  0\\n  9 10  1  0\\n 10 11  2  0\\n 11 12  1  0\\n 12 13  1  0\\n 13 14  1  0\\n 14 15  1  0\\n 15 16  1  0\\n 16 17  1  0\\n 12 18  2  0\\n 18 19  1  0\\n 19 20  1  0\\n 20 21  1  0\\n 21 22  1  0\\n 22 23  1  0\\n 23 24  1  0\\n 24 25  1  0\\n 19 26  2  0\\n  9 27  1  0\\n 27 28  2  0\\n 28  2  1  0\\n 26 10  1  0\\n 17 13  1  0\\n 25 20  1  0\\n  1 29  1  0\\n  1 30  1  0\\n  3 31  1  0\\n 11 32  1  0\\n 14 33  1  0\\n 14 34  1  0\\n 15 35  1  0\\n 15 36  1  0\\n 16 37  1  0\\n 16 38  1  0\\n 17 39  1  0\\n 17 40  1  0\\n 21 41  1  0\\n 21 42  1  0\\n 22 43  1  0\\n 22 44  1  0\\n 24 45  1  0\\n 24 46  1  0\\n 25 47  1  0\\n 25 48  1  0\\n 27 49  1  0\\nM  END\\n\",\"sdf\");\n\tviewer_17107955960075154.addLabel(\"pKa=5.2\",{\"position\": {\"x\": 6.265968936648357, \"y\": -2.7090800531410153, \"z\": -0.07389340876330558}, \"fontSize\": 10});\n\tviewer_17107955960075154.addLabel(\"pKa=5.2\",{\"position\": {\"x\": -0.2730776472192746, \"y\": 2.912985354233927, \"z\": 0.9440339300788306}, \"fontSize\": 10});\n\tviewer_17107955960075154.addLabel(\"pKa=5.9\",{\"position\": {\"x\": -1.2588668778843322, \"y\": 0.8854636701220857, \"z\": 0.05060495899580657}, \"fontSize\": 10});\n\tviewer_17107955960075154.addLabel(\"pKa=5.7\",{\"position\": {\"x\": -2.3887021553865906, \"y\": -1.0029900436598829, \"z\": -0.8250614560451719}, \"fontSize\": 10});\n\tviewer_17107955960075154.addLabel(\"pKa=5.4\",{\"position\": {\"x\": 0.021628691210229287, \"y\": -0.9783123226857123, \"z\": -0.43635011633269877}, \"fontSize\": 10});\n\tviewer_17107955960075154.addLabel(\"pKa=5.3\",{\"position\": {\"x\": 4.8155254563045755, \"y\": -0.8858165537892722, \"z\": 0.17467292969419204}, \"fontSize\": 10});\n\tviewer_17107955960075154.addLabel(\"pKa=13.1\",{\"position\": {\"x\": 6.557956663365307, \"y\": -3.3315764656515396, \"z\": 0.6937502940831101}, \"fontSize\": 10});\n\tviewer_17107955960075154.addLabel(\"pKa=13.1\",{\"position\": {\"x\": 6.912435152074895, \"y\": -2.459126447045106, \"z\": -0.8366247659759944}, \"fontSize\": 10});\n\tviewer_17107955960075154.setStyle({\"stick\": {\"colorscheme\": \"greenCarbon\"}});\n\tviewer_17107955960075154.setBackgroundColor(\"0xeeeeee\");\n\tviewer_17107955960075154.zoomTo();\nviewer_17107955960075154.render();\n});\n</script>",
      "text/html": [
       "<div id=\"3dmolviewer_17107955960075154\"  style=\"position: relative; width: 600px; height: 400px;\">\n",
       "        <p id=\"3dmolwarning_17107955960075154\" style=\"background-color:#ffcccc;color:black\">3Dmol.js failed to load for some reason.  Please check your browser console for error messages.<br></p>\n",
       "        </div>\n",
       "<script>\n",
       "\n",
       "var loadScriptAsync = function(uri){\n",
       "  return new Promise((resolve, reject) => {\n",
       "    //this is to ignore the existence of requirejs amd\n",
       "    var savedexports, savedmodule;\n",
       "    if (typeof exports !== 'undefined') savedexports = exports;\n",
       "    else exports = {}\n",
       "    if (typeof module !== 'undefined') savedmodule = module;\n",
       "    else module = {}\n",
       "\n",
       "    var tag = document.createElement('script');\n",
       "    tag.src = uri;\n",
       "    tag.async = true;\n",
       "    tag.onload = () => {\n",
       "        exports = savedexports;\n",
       "        module = savedmodule;\n",
       "        resolve();\n",
       "    };\n",
       "  var firstScriptTag = document.getElementsByTagName('script')[0];\n",
       "  firstScriptTag.parentNode.insertBefore(tag, firstScriptTag);\n",
       "});\n",
       "};\n",
       "\n",
       "if(typeof $3Dmolpromise === 'undefined') {\n",
       "$3Dmolpromise = null;\n",
       "  $3Dmolpromise = loadScriptAsync('https://cdnjs.cloudflare.com/ajax/libs/3Dmol/2.1.0/3Dmol-min.js');\n",
       "}\n",
       "\n",
       "var viewer_17107955960075154 = null;\n",
       "var warn = document.getElementById(\"3dmolwarning_17107955960075154\");\n",
       "if(warn) {\n",
       "    warn.parentNode.removeChild(warn);\n",
       "}\n",
       "$3Dmolpromise.then(function() {\n",
       "viewer_17107955960075154 = $3Dmol.createViewer(document.getElementById(\"3dmolviewer_17107955960075154\"),{backgroundColor:\"white\"});\n",
       "viewer_17107955960075154.zoomTo();\n",
       "\tviewer_17107955960075154.removeAllModels();\n",
       "\tviewer_17107955960075154.addModel(\"\\n     RDKit          3D\\n\\n 49 52  0  0  0  0  0  0  0  0999 V2000\\n    6.2660   -2.7091   -0.0739 N   0  0  0  0  0  0  0  0  0  0  0  0\\n    4.9515   -2.1857   -0.0832 C   0  0  0  0  0  0  0  0  0  0  0  0\\n    3.8377   -2.9416   -0.3403 C   0  0  0  0  0  0  0  0  0  0  0  0\\n    2.5790   -2.3563   -0.3315 C   0  0  0  0  0  0  0  0  0  0  0  0\\n    1.4159   -3.2539   -0.5918 C   0  0  0  0  0  0  0  0  0  0  0  0\\n    0.5627   -3.2936    0.4943 F   0  0  0  0  0  0  0  0  0  0  0  0\\n    1.9074   -4.5678   -0.6914 F   0  0  0  0  0  0  0  0  0  0  0  0\\n    0.7907   -3.0118   -1.7755 F   0  0  0  0  0  0  0  0  0  0  0  0\\n    2.4767   -1.0130   -0.0626 C   0  0  0  0  0  0  0  0  0  0  0  0\\n    1.1580   -0.3767   -0.0427 C   0  0  0  0  0  0  0  0  0  0  0  0\\n    1.0465    0.9168    0.4142 C   0  0  0  0  0  0  0  0  0  0  0  0\\n   -0.1913    1.5772    0.4671 C   0  0  0  0  0  0  0  0  0  0  0  0\\n   -0.2731    2.9130    0.9440 N   0  0  0  0  0  0  0  0  0  0  0  0\\n    0.8379    3.7064    1.4035 C   0  0  0  0  0  0  0  0  0  0  0  0\\n    0.2063    4.9709    1.9501 C   0  0  0  0  0  0  0  0  0  0  0  0\\n   -1.0130    5.1055    1.0626 C   0  0  0  0  0  0  0  0  0  0  0  0\\n   -1.5137    3.6571    1.0280 C   0  0  0  0  0  0  0  0  0  0  0  0\\n   -1.2589    0.8855    0.0506 N   0  0  0  0  0  0  0  0  0  0  0  0\\n   -1.1888   -0.3898   -0.4060 C   0  0  0  0  0  0  0  0  0  0  0  0\\n   -2.3887   -1.0030   -0.8251 N   0  0  0  0  0  0  0  0  0  0  0  0\\n   -3.6302   -0.2986   -0.6806 C   0  0  0  0  0  0  0  0  0  0  0  0\\n   -4.8389   -1.1897   -0.6070 C   0  0  0  0  0  0  0  0  0  0  0  0\\n   -4.7526   -2.0513   -1.7106 O   0  0  0  0  0  0  0  0  0  0  0  0\\n   -3.7067   -2.9611   -1.5457 C   0  0  0  0  0  0  0  0  0  0  0  0\\n   -2.3614   -2.3160   -1.4010 C   0  0  0  0  0  0  0  0  0  0  0  0\\n    0.0216   -0.9783   -0.4364 N   0  0  0  0  0  0  0  0  0  0  0  0\\n    3.6173   -0.2886    0.1906 C   0  0  0  0  0  0  0  0  0  0  0  0\\n    4.8155   -0.8858    0.1747 N   0  0  0  0  0  0  0  0  0  0  0  0\\n    6.5580   -3.3316    0.6938 H   0  0  0  0  0  0  0  0  0  0  0  0\\n    6.9124   -2.4591   -0.8366 H   0  0  0  0  0  0  0  0  0  0  0  0\\n    3.9821   -4.0087   -0.5494 H   0  0  0  0  0  0  0  0  0  0  0  0\\n    1.8652    1.4981    0.7584 H   0  0  0  0  0  0  0  0  0  0  0  0\\n    1.4672    4.0020    0.5364 H   0  0  0  0  0  0  0  0  0  0  0  0\\n    1.4341    3.1917    2.1841 H   0  0  0  0  0  0  0  0  0  0  0  0\\n    0.8885    5.8397    1.8519 H   0  0  0  0  0  0  0  0  0  0  0  0\\n   -0.1640    4.8432    2.9879 H   0  0  0  0  0  0  0  0  0  0  0  0\\n   -1.7641    5.7944    1.4487 H   0  0  0  0  0  0  0  0  0  0  0  0\\n   -0.6453    5.3386    0.0461 H   0  0  0  0  0  0  0  0  0  0  0  0\\n   -2.1805    3.4799    0.1768 H   0  0  0  0  0  0  0  0  0  0  0  0\\n   -1.9874    3.4026    2.0112 H   0  0  0  0  0  0  0  0  0  0  0  0\\n   -3.7766    0.3313   -1.6089 H   0  0  0  0  0  0  0  0  0  0  0  0\\n   -3.6115    0.4144    0.1799 H   0  0  0  0  0  0  0  0  0  0  0  0\\n   -4.9033   -1.7366    0.3502 H   0  0  0  0  0  0  0  0  0  0  0  0\\n   -5.7356   -0.5668   -0.7524 H   0  0  0  0  0  0  0  0  0  0  0  0\\n   -3.6940   -3.5800   -2.4714 H   0  0  0  0  0  0  0  0  0  0  0  0\\n   -3.9257   -3.6857   -0.7303 H   0  0  0  0  0  0  0  0  0  0  0  0\\n   -1.7290   -3.0223   -0.8121 H   0  0  0  0  0  0  0  0  0  0  0  0\\n   -1.9356   -2.2081   -2.4453 H   0  0  0  0  0  0  0  0  0  0  0  0\\n    3.5717    0.8025    0.4064 H   0  0  0  0  0  0  0  0  0  0  0  0\\n  1  2  1  0\\n  2  3  2  0\\n  3  4  1  0\\n  4  5  1  0\\n  5  6  1  0\\n  5  7  1  0\\n  5  8  1  0\\n  4  9  2  0\\n  9 10  1  0\\n 10 11  2  0\\n 11 12  1  0\\n 12 13  1  0\\n 13 14  1  0\\n 14 15  1  0\\n 15 16  1  0\\n 16 17  1  0\\n 12 18  2  0\\n 18 19  1  0\\n 19 20  1  0\\n 20 21  1  0\\n 21 22  1  0\\n 22 23  1  0\\n 23 24  1  0\\n 24 25  1  0\\n 19 26  2  0\\n  9 27  1  0\\n 27 28  2  0\\n 28  2  1  0\\n 26 10  1  0\\n 17 13  1  0\\n 25 20  1  0\\n  1 29  1  0\\n  1 30  1  0\\n  3 31  1  0\\n 11 32  1  0\\n 14 33  1  0\\n 14 34  1  0\\n 15 35  1  0\\n 15 36  1  0\\n 16 37  1  0\\n 16 38  1  0\\n 17 39  1  0\\n 17 40  1  0\\n 21 41  1  0\\n 21 42  1  0\\n 22 43  1  0\\n 22 44  1  0\\n 24 45  1  0\\n 24 46  1  0\\n 25 47  1  0\\n 25 48  1  0\\n 27 49  1  0\\nM  END\\n\",\"sdf\");\n",
       "\tviewer_17107955960075154.addLabel(\"pKa=5.2\",{\"position\": {\"x\": 6.265968936648357, \"y\": -2.7090800531410153, \"z\": -0.07389340876330558}, \"fontSize\": 10});\n",
       "\tviewer_17107955960075154.addLabel(\"pKa=5.2\",{\"position\": {\"x\": -0.2730776472192746, \"y\": 2.912985354233927, \"z\": 0.9440339300788306}, \"fontSize\": 10});\n",
       "\tviewer_17107955960075154.addLabel(\"pKa=5.9\",{\"position\": {\"x\": -1.2588668778843322, \"y\": 0.8854636701220857, \"z\": 0.05060495899580657}, \"fontSize\": 10});\n",
       "\tviewer_17107955960075154.addLabel(\"pKa=5.7\",{\"position\": {\"x\": -2.3887021553865906, \"y\": -1.0029900436598829, \"z\": -0.8250614560451719}, \"fontSize\": 10});\n",
       "\tviewer_17107955960075154.addLabel(\"pKa=5.4\",{\"position\": {\"x\": 0.021628691210229287, \"y\": -0.9783123226857123, \"z\": -0.43635011633269877}, \"fontSize\": 10});\n",
       "\tviewer_17107955960075154.addLabel(\"pKa=5.3\",{\"position\": {\"x\": 4.8155254563045755, \"y\": -0.8858165537892722, \"z\": 0.17467292969419204}, \"fontSize\": 10});\n",
       "\tviewer_17107955960075154.addLabel(\"pKa=13.1\",{\"position\": {\"x\": 6.557956663365307, \"y\": -3.3315764656515396, \"z\": 0.6937502940831101}, \"fontSize\": 10});\n",
       "\tviewer_17107955960075154.addLabel(\"pKa=13.1\",{\"position\": {\"x\": 6.912435152074895, \"y\": -2.459126447045106, \"z\": -0.8366247659759944}, \"fontSize\": 10});\n",
       "\tviewer_17107955960075154.setStyle({\"stick\": {\"colorscheme\": \"greenCarbon\"}});\n",
       "\tviewer_17107955960075154.setBackgroundColor(\"0xeeeeee\");\n",
       "\tviewer_17107955960075154.zoomTo();\n",
       "viewer_17107955960075154.render();\n",
       "});\n",
       "</script>"
      ]
     },
     "metadata": {},
     "output_type": "display_data"
    }
   ],
   "source": [
    "mol = Chem.MolFromSmiles(\"Nc1cc(C(F)(F)F)c(-c2cc(N3CCCC3)nc(N3CCOCC3)n2)cn1\")\n",
    "base_dict, acid_dict, m = predict(mol)\n",
    "atom_idx = list(base_dict.keys()) + list(acid_dict.keys())\n",
    "pkas = list(base_dict.values()) + list(acid_dict.values())\n",
    "drawit(m, atom_idx, pkas)"
   ]
  },
  {
   "cell_type": "code",
   "execution_count": 14,
   "metadata": {},
   "outputs": [
    {
     "data": {
      "image/png": "[encoded data removed]",
      "text/plain": [
       "<rdkit.Chem.rdchem.Mol at 0x14af932f3b20>"
      ]
     },
     "execution_count": 14,
     "metadata": {},
     "output_type": "execute_result"
    }
   ],
   "source": [
    "mol"
   ]
  },
  {
   "cell_type": "code",
   "execution_count": null,
   "metadata": {},
   "outputs": [],
   "source": []
  }
 ],
 "metadata": {
  "kernelspec": {
   "display_name": "Python 3 (ipykernel)",
   "language": "python",
   "name": "python3"
  },
  "language_info": {
   "codemirror_mode": {
    "name": "ipython",
    "version": 3
   },
   "file_extension": ".py",
   "mimetype": "text/x-python",
   "name": "python",
   "nbconvert_exporter": "python",
   "pygments_lexer": "ipython3",
   "version": "3.10.13"
  }
 },
 "nbformat": 4,
 "nbformat_minor": 4
}
